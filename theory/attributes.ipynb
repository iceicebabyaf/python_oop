{
 "cells": [
  {
   "cell_type": "markdown",
   "id": "3d6dd03f",
   "metadata": {},
   "source": [
    "# Атрибуты класса"
   ]
  },
  {
   "cell_type": "markdown",
   "id": "2153fa2d",
   "metadata": {},
   "source": [
    "# Словарик:\n",
    "\n",
    "\n",
    "| Функция                         | Что делает                                                                                                     |\n",
    "| ------------------------------- | -------------------------------------------------------------------------------------------------------------- |\n",
    "| `vars(obj)`                     | Возвращает `__dict__` объекта — словарь его **атрибутов экземпляра**.                                          |\n",
    "| `getattr(obj, name, \"default\")` | Возвращает значение атрибута с именем `name`. Если атрибута нет — `AttributeError`, если не указать `default`. |\n",
    "| `setattr(obj, name, value)`     | Устанавливает атрибут `name` объекту `obj` со значением `value`.                                               |\n",
    "| `hasattr(obj, name)`            | Проверяет, есть ли у объекта атрибут `name`. Возвращает `True` или `False`.                                    |\n",
    "| `delattr(obj, name)`            | Удаляет атрибут `name` у объекта. Если нет — `AttributeError`.                                                 |\n",
    "\n",
    "`obj` - объект класса\n",
    "\n",
    "`name` - атрибут класса (переменная)\n"
   ]
  },
  {
   "cell_type": "code",
   "execution_count": 50,
   "id": "1e6cc48c",
   "metadata": {},
   "outputs": [],
   "source": [
    "class cars:\n",
    "    car_brand = \"\"\n",
    "    def __init__(car, model, weight, date):\n",
    "        car.model = model\n",
    "        car.weight = weight\n",
    "        car.date = date\n",
    "        \n",
    "car1 = cars(\"Lancer\", 1700, \"01.03.2005\")"
   ]
  },
  {
   "cell_type": "code",
   "execution_count": 51,
   "id": "a719af40",
   "metadata": {},
   "outputs": [
    {
     "name": "stdout",
     "output_type": "stream",
     "text": [
      "{'model': 'Lancer', 'weight': 1700, 'date': '01.03.2005'}\n"
     ]
    }
   ],
   "source": [
    "\"\"\"\n",
    "vars(obj) - словарь атрибутов экземпляра\n",
    "\"\"\"\n",
    "print(vars(car1))"
   ]
  },
  {
   "cell_type": "code",
   "execution_count": 52,
   "id": "076c9d83",
   "metadata": {},
   "outputs": [
    {
     "name": "stdout",
     "output_type": "stream",
     "text": [
      "Lancer\n",
      "default\n"
     ]
    }
   ],
   "source": [
    "\"\"\"\n",
    "getattr(obj, name, \"default\") - значение атрибута с именем name\n",
    "\"\"\"\n",
    "print(getattr(car1, \"model\", \"default\"))\n",
    "print(getattr(car1, \"lalala\", \"default\"))"
   ]
  },
  {
   "cell_type": "code",
   "execution_count": 53,
   "id": "4ddfa9f5",
   "metadata": {},
   "outputs": [
    {
     "name": "stdout",
     "output_type": "stream",
     "text": [
      "{'model': 'Lancer', 'weight': 1700, 'date': '01.03.2005'}\n",
      "{'model': 'Lancer', 'weight': 1700, 'date': '01.03.2005', 'name': 'val'}\n"
     ]
    }
   ],
   "source": [
    "\"\"\"\n",
    "setattr(obj, name, value) - создает новый атрибут экземпляра с заданным значением. либо изменяет значение уже существующего атрибута.\n",
    "\"\"\"\n",
    "print(vars(car1))\n",
    "setattr(car1, \"name\", \"val\")\n",
    "print(vars(car1))\n"
   ]
  },
  {
   "cell_type": "code",
   "execution_count": 54,
   "id": "de2fe960",
   "metadata": {},
   "outputs": [
    {
     "name": "stdout",
     "output_type": "stream",
     "text": [
      "True\n",
      "False\n"
     ]
    }
   ],
   "source": [
    "\"\"\"\n",
    "hasattr(obj, name) - проверка есть ли атрибут name у объекта obj (True/False)\n",
    "\"\"\"\n",
    "print(hasattr(car1, \"name\"))\n",
    "print(hasattr(car1, \"lalala\"))"
   ]
  },
  {
   "cell_type": "code",
   "execution_count": null,
   "id": "50d2ddae",
   "metadata": {},
   "outputs": [
    {
     "name": "stdout",
     "output_type": "stream",
     "text": [
      "{'model': 'Lancer', 'weight': 1700, 'date': '01.03.2005', 'name': 'val'}\n",
      "None\n",
      "{'model': 'Lancer', 'weight': 1700, 'date': '01.03.2005'}\n"
     ]
    }
   ],
   "source": [
    "\"\"\"\n",
    "delattr(obj, name) - удаление атрибута name у объекта obj (при успехе: None) (при неудаче: Error)\n",
    "\"\"\"\n",
    "print(vars(car1))\n",
    "print(delattr(car1, \"name\"))\n",
    "print(vars(car1))"
   ]
  }
 ],
 "metadata": {
  "kernelspec": {
   "display_name": "oop_env",
   "language": "python",
   "name": "python3"
  },
  "language_info": {
   "codemirror_mode": {
    "name": "ipython",
    "version": 3
   },
   "file_extension": ".py",
   "mimetype": "text/x-python",
   "name": "python",
   "nbconvert_exporter": "python",
   "pygments_lexer": "ipython3",
   "version": "3.13.1"
  }
 },
 "nbformat": 4,
 "nbformat_minor": 5
}
