{
 "cells": [
  {
   "cell_type": "markdown",
   "id": "3d6dd03f",
   "metadata": {},
   "source": [
    "# Атрибуты"
   ]
  },
  {
   "cell_type": "markdown",
   "id": "2153fa2d",
   "metadata": {},
   "source": [
    "# Словарик:\n",
    "\n",
    "\n",
    "| Функция                         | Что делает                                                                                                     |\n",
    "| ------------------------------- | -------------------------------------------------------------------------------------------------------------- |\n",
    "| `vars(obj)`                     | Возвращает `__dict__` объекта — словарь его **атрибутов экземпляра**.                                          |\n",
    "| `getattr(obj, name, \"default\")` | Возвращает значение атрибута с именем `name`. Если атрибута нет — `AttributeError`, если не указать `default`. |\n",
    "| `setattr(obj, name, value)`     | Устанавливает атрибут `name` объекту `obj` со значением `value`.                                               |\n",
    "| `hasattr(obj, name)`            | Проверяет, есть ли у объекта атрибут `name`. Возвращает `True` или `False`.                                    |\n",
    "| `delattr(obj, name)`            | Удаляет атрибут `name` у объекта. Если нет — `AttributeError`.                                                 |\n",
    "\n",
    "`obj` - объект класса\n",
    "\n",
    "`name` - атрибут класса (переменная)\n"
   ]
  },
  {
   "cell_type": "code",
   "execution_count": 50,
   "id": "1e6cc48c",
   "metadata": {},
   "outputs": [],
   "source": [
    "class cars:\n",
    "    car_brand = \"\"\n",
    "    def __init__(car, model, weight, date):\n",
    "        car.model = model\n",
    "        car.weight = weight\n",
    "        car.date = date\n",
    "        \n",
    "car1 = cars(\"Lancer\", 1700, \"01.03.2005\")"
   ]
  },
  {
   "cell_type": "code",
   "execution_count": 51,
   "id": "a719af40",
   "metadata": {},
   "outputs": [
    {
     "name": "stdout",
     "output_type": "stream",
     "text": [
      "{'model': 'Lancer', 'weight': 1700, 'date': '01.03.2005'}\n"
     ]
    }
   ],
   "source": [
    "\"\"\"\n",
    "vars(obj) - словарь атрибутов экземпляра\n",
    "\"\"\"\n",
    "print(vars(car1))"
   ]
  },
  {
   "cell_type": "code",
   "execution_count": 52,
   "id": "076c9d83",
   "metadata": {},
   "outputs": [
    {
     "name": "stdout",
     "output_type": "stream",
     "text": [
      "Lancer\n",
      "default\n"
     ]
    }
   ],
   "source": [
    "\"\"\"\n",
    "getattr(obj, name, \"default\") - значение атрибута с именем name\n",
    "\"\"\"\n",
    "print(getattr(car1, \"model\", \"default\"))\n",
    "print(getattr(car1, \"lalala\", \"default\"))"
   ]
  },
  {
   "cell_type": "code",
   "execution_count": 53,
   "id": "4ddfa9f5",
   "metadata": {},
   "outputs": [
    {
     "name": "stdout",
     "output_type": "stream",
     "text": [
      "{'model': 'Lancer', 'weight': 1700, 'date': '01.03.2005'}\n",
      "{'model': 'Lancer', 'weight': 1700, 'date': '01.03.2005', 'name': 'val'}\n"
     ]
    }
   ],
   "source": [
    "\"\"\"\n",
    "setattr(obj, name, value) - создает новый атрибут экземпляра с заданным значением. либо изменяет значение уже существующего атрибута.\n",
    "\"\"\"\n",
    "print(vars(car1))\n",
    "setattr(car1, \"name\", \"val\")\n",
    "print(vars(car1))\n"
   ]
  },
  {
   "cell_type": "code",
   "execution_count": 54,
   "id": "de2fe960",
   "metadata": {},
   "outputs": [
    {
     "name": "stdout",
     "output_type": "stream",
     "text": [
      "True\n",
      "False\n"
     ]
    }
   ],
   "source": [
    "\"\"\"\n",
    "hasattr(obj, name) - проверка есть ли атрибут name у объекта obj (True/False)\n",
    "\"\"\"\n",
    "print(hasattr(car1, \"name\"))\n",
    "print(hasattr(car1, \"lalala\"))"
   ]
  },
  {
   "cell_type": "code",
   "execution_count": null,
   "id": "50d2ddae",
   "metadata": {},
   "outputs": [
    {
     "name": "stdout",
     "output_type": "stream",
     "text": [
      "{'model': 'Lancer', 'weight': 1700, 'date': '01.03.2005', 'name': 'val'}\n",
      "None\n",
      "{'model': 'Lancer', 'weight': 1700, 'date': '01.03.2005'}\n"
     ]
    }
   ],
   "source": [
    "\"\"\"\n",
    "delattr(obj, name) - удаление атрибута name у объекта obj (при успехе: None) (при неудаче: Error)\n",
    "\"\"\"\n",
    "print(vars(car1))\n",
    "print(delattr(car1, \"name\"))\n",
    "print(vars(car1))"
   ]
  },
  {
   "cell_type": "markdown",
   "id": "2a83954d",
   "metadata": {},
   "source": [
    "# Атрибуты:\n",
    "- класса \n",
    "    - шаблон для экземпляров. Задает общие значения для всех экземпляров. Например: марка авто - атрибут класса, а модель данной марки - экземпляр\n",
    "- экзмепляра:\n",
    "    - принадлежат одному объекту и доступны только внутри объекта; они уникальны для каждого объекта и не являются общими для экземпляров класса."
   ]
  },
  {
   "cell_type": "markdown",
   "id": "04a18934",
   "metadata": {},
   "source": [
    "## Атрибуты экземпляра (instance attributes)\n",
    "- обычно задаются в методе __init__ с помощью self\n",
    "- принадлежит конкретному экземпляру (объекту) класса\n",
    "- Каждый объект класса имеет свои собственные значения этих атрибутов, и они не разделяются между разными объектами."
   ]
  },
  {
   "cell_type": "code",
   "execution_count": null,
   "id": "9df224a2",
   "metadata": {},
   "outputs": [
    {
     "name": "stdout",
     "output_type": "stream",
     "text": [
      "{'name': 'Max', 'plug': 'lalalal'}\n"
     ]
    }
   ],
   "source": [
    "class Example:\n",
    "    default_name = \"Loh\"\n",
    "    def __init__(self, name):\n",
    "        self.name = name  # Атрибут экземпляра\n",
    "        self.plug = \"lalalal\"\n",
    "\n",
    "obj1 = Example(\"Max\")\n",
    "obj2 = Example(\"Alex\")\n",
    "print(vars(obj1))\n",
    "# Здесь name — это атрибут экземпляра, и у каждого объекта (obj1, obj2) своё значение name."
   ]
  },
  {
   "cell_type": "markdown",
   "id": "30130f84",
   "metadata": {},
   "source": [
    "## Атрибуты класса (class attributes)\n",
    "- они принадлежат самому классу, а не его экзмеплярам\n",
    "- задаются непосредственно в теле класса (вне методов, без self).\n",
    "- Все экземпляры класса разделяют эти атрибуты, то есть они общие для всех объектов этого класса."
   ]
  },
  {
   "cell_type": "code",
   "execution_count": 2,
   "id": "8af66d10",
   "metadata": {},
   "outputs": [
    {
     "name": "stdout",
     "output_type": "stream",
     "text": [
      "Guest\n",
      "Guest\n",
      "Guest\n"
     ]
    }
   ],
   "source": [
    "class Example:\n",
    "    default_name = \"Guest\"  # Атрибут класса\n",
    "    \n",
    "    def __init__(self, name):\n",
    "        self.name = name  # Атрибут экземпляра\n",
    "\n",
    "obj1 = Example(\"Max\")\n",
    "obj2 = Example(\"Alex\")\n",
    "print(obj1.default_name)  # Guest\n",
    "print(obj2.default_name)  # Guest\n",
    "print(Example.default_name)  # Guest (доступ через класс)"
   ]
  },
  {
   "cell_type": "markdown",
   "id": "85e3b454",
   "metadata": {},
   "source": [
    "## Отличный пример для понимания что есть *атрибут класса*, а что *атрибут экземпляра*"
   ]
  },
  {
   "cell_type": "code",
   "execution_count": 3,
   "id": "7c297e08",
   "metadata": {},
   "outputs": [
    {
     "name": "stdout",
     "output_type": "stream",
     "text": [
      "Toyota Camry\n",
      "Toyota Corolla\n",
      "Honda Camry\n",
      "Honda Corolla\n",
      "Honda Civic\n",
      "Honda Corolla\n"
     ]
    }
   ],
   "source": [
    "class Car:\n",
    "    brand = \"Toyota\"  # Атрибут класса (общий для всех машин)\n",
    "    \n",
    "    def __init__(self, model):\n",
    "        self.model = model  # Атрибут экземпляра (у каждой машины свой)\n",
    "\n",
    "car1 = Car(\"Camry\")\n",
    "car2 = Car(\"Corolla\")\n",
    "\n",
    "print(car1.brand, car1.model)  # Toyota Camry\n",
    "print(car2.brand, car2.model)  # Toyota Corolla\n",
    "\n",
    "# Меняем атрибут класса\n",
    "Car.brand = \"Honda\"\n",
    "print(car1.brand, car1.model)  # Honda Camry\n",
    "print(car2.brand, car2.model)  # Honda Corolla\n",
    "\n",
    "# Меняем атрибут экземпляра\n",
    "car1.model = \"Civic\"\n",
    "print(car1.brand, car1.model)  # Honda Civic\n",
    "print(car2.brand, car2.model)  # Honda Corolla"
   ]
  }
 ],
 "metadata": {
  "kernelspec": {
   "display_name": "oop_env",
   "language": "python",
   "name": "python3"
  },
  "language_info": {
   "codemirror_mode": {
    "name": "ipython",
    "version": 3
   },
   "file_extension": ".py",
   "mimetype": "text/x-python",
   "name": "python",
   "nbconvert_exporter": "python",
   "pygments_lexer": "ipython3",
   "version": "3.13.1"
  }
 },
 "nbformat": 4,
 "nbformat_minor": 5
}
